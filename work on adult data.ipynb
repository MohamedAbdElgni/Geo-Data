{
 "cells": [
  {
   "cell_type": "code",
   "execution_count": 1,
   "metadata": {},
   "outputs": [],
   "source": [
    "import pandas as pd\n",
    "import numpy as np\n",
    "import matplotlib.pyplot as plt\n",
    "db = pd.read_csv(r\"E:\\Mohamed\\Excel\\Geo Data\\adultdata.csv\")\n",
    "db.drop([\"fnlwgt\",\"capital-gain\",\"capital-loss\",\"marital-status\",\"relationship\"],axis=1,inplace=True)"
   ]
  },
  {
   "cell_type": "code",
   "execution_count": 2,
   "metadata": {},
   "outputs": [
    {
     "name": "stdout",
     "output_type": "stream",
     "text": [
      "The Average Age Of Men ==> 39.43 Y\n",
      "The Average Age Of Men ==> 36.86 Y\n"
     ]
    }
   ],
   "source": [
    "#What is the average age of men and women?\n",
    "db_men=db[db[\"sex\"]==\"Male\"]\n",
    "db_women=db[db[\"sex\"]==\"Female\"]\n",
    "av_women=round(db_women[\"age\"].mean(),2)\n",
    "av_men=round(db_men[\"age\"].mean(),2)\n",
    "print(f\"the average age of men ==> {av_men} Y\".title())\n",
    "print(f\"the average age of men ==> {av_women} Y\".title())"
   ]
  },
  {
   "cell_type": "code",
   "execution_count": 13,
   "metadata": {},
   "outputs": [
    {
     "data": {
      "text/plain": [
       "HS-grad         10501\n",
       "Some-college     7291\n",
       "Bachelors        5355\n",
       "Masters          1723\n",
       "Assoc-voc        1382\n",
       "11th             1175\n",
       "Assoc-acdm       1067\n",
       "10th              933\n",
       "7th-8th           646\n",
       "Prof-school       576\n",
       "9th               514\n",
       "12th              433\n",
       "Doctorate         413\n",
       "5th-6th           333\n",
       "1st-4th           168\n",
       "Preschool          51\n",
       "Name: education, dtype: int64"
      ]
     },
     "execution_count": 13,
     "metadata": {},
     "output_type": "execute_result"
    }
   ],
   "source": [
    "#How many people of each Education lvl are represented in this dataset?\n",
    "cc=db[\"education\"].value_counts()\n",
    "cc"
   ]
  },
  {
   "cell_type": "code",
   "execution_count": 4,
   "metadata": {},
   "outputs": [
    {
     "name": "stdout",
     "output_type": "stream",
     "text": [
      "The Percentage Of People Who Have A Bachelor'S Degree==> 16.4%\n"
     ]
    }
   ],
   "source": [
    "#What is the percentage of people who have a Bachelor's degree?\n",
    "bS_deg=round((len(db[db[\"education\"]==\"Bachelors\"]))/len(db),3)\n",
    "print(f\"the percentage of people who have a Bachelor's degree==> {round(bS_deg*100,2)}%\".title())\n"
   ]
  },
  {
   "cell_type": "code",
   "execution_count": 5,
   "metadata": {},
   "outputs": [
    {
     "name": "stdout",
     "output_type": "stream",
     "text": [
      "Percentage Of People With Advanced Education Is ==> 46.5%\n"
     ]
    }
   ],
   "source": [
    "#What percentage of people with advanced education (Bachelors13, Masters14, or Doctorate16) make more than 50K?\n",
    "hEduc=db[db[\"education\"].isin([\"Bachelors\", \"Masters\",\"Doctorate\"])]\n",
    "h_R=round((len(hEduc[hEduc[\"salary\"]==\">50K\"])/len(hEduc))*100,1)\n",
    "print(f\"percentage of people with advanced education is ==> {h_R}%\".title())"
   ]
  },
  {
   "cell_type": "code",
   "execution_count": 6,
   "metadata": {},
   "outputs": [
    {
     "name": "stdout",
     "output_type": "stream",
     "text": [
      "Percentage Of People Without Advanced Education Is ==> 17.4%\n"
     ]
    }
   ],
   "source": [
    "#What percentage of people without advanced education make more than 50K?\n",
    "lEduc=db[~db[\"education\"].isin([\"Bachelors\", \"Masters\",\"Doctorate\"])]\n",
    "l_R=round((len(lEduc[lEduc[\"salary\"]==\">50K\"])/len(lEduc))*100,1)\n",
    "print(f\"percentage of people without advanced education is ==> {l_R}%\".title())"
   ]
  },
  {
   "cell_type": "code",
   "execution_count": 7,
   "metadata": {},
   "outputs": [
    {
     "name": "stdout",
     "output_type": "stream",
     "text": [
      "the minimum number of hours a person works per week==> 1 Hour\n",
      "Percentage Of People Who Work The Minimum Number Of Hours Per Week Have A Salary Of More Than 50K ==> 10.0%\n"
     ]
    }
   ],
   "source": [
    "#What is the minimum number of hours a person works per week?\n",
    "mn_w_h=db[\"hours-per-week\"].min()\n",
    "print(f\"the minimum number of hours a person works per week==> {mn_w_h} Hour\")\n",
    "#What percentage of the people who work the minimum number of hours per week have a salary of more than 50K?\n",
    "mn_w_h=db[db[\"hours-per-week\"]==1]\n",
    "min_RR=len(mn_w_h[mn_w_h[\"salary\"]==\">50K\"])/len(mn_w_h)\n",
    "print(f\"percentage of people who work the minimum number of hours per week have a salary of more than 50K ==> {min_RR*100}%\".title())"
   ]
  },
  {
   "cell_type": "code",
   "execution_count": 9,
   "metadata": {},
   "outputs": [
    {
     "name": "stdout",
     "output_type": "stream",
     "text": [
      "highest earning country is ==> Iran\n",
      "Highest Earning People Percentage In Iran ==> 41.9%\n"
     ]
    }
   ],
   "source": [
    "#What country has the highest percentage of people that earn >50K and what is that percentage? Okey this is hard one\n",
    "#first we need to find high salaries be \n",
    "high_s=db[db[\"salary\"]==\">50K\"]\n",
    "#then we find percentage  to find which country got the highest ratio country with rich people\n",
    "hecp=(high_s[\"native-country\"].value_counts())/(db[\"native-country\"].value_counts())\n",
    "H_ec=hecp.idxmax()\n",
    "highest_earning_country_percentage = round((hecp.max()))\n",
    "print(f\"highest earning country is ==> {H_ec}\")\n",
    "print(f\"highest earning people percentage in {H_ec} ==> {round(hecp.max(),3)*100}%\".title())"
   ]
  },
  {
   "cell_type": "code",
   "execution_count": 10,
   "metadata": {},
   "outputs": [
    {
     "name": "stdout",
     "output_type": "stream",
     "text": [
      "The Most Popular Occupation For Those Who Earn >50K In India ==> Prof-Specialty\n"
     ]
    }
   ],
   "source": [
    "#Identify the most popular occupation for those who earn >50K in India.\n",
    "high_s=high_s[high_s[\"native-country\"]==\"India\"]\n",
    "print(f\"the most popular occupation for those who earn >50K in India ==> {high_s['occupation'].value_counts().idxmax()}\".title())"
   ]
  }
 ],
 "metadata": {
  "kernelspec": {
   "display_name": "Python 3.10.2 64-bit",
   "language": "python",
   "name": "python3"
  },
  "language_info": {
   "codemirror_mode": {
    "name": "ipython",
    "version": 3
   },
   "file_extension": ".py",
   "mimetype": "text/x-python",
   "name": "python",
   "nbconvert_exporter": "python",
   "pygments_lexer": "ipython3",
   "version": "3.10.2"
  },
  "orig_nbformat": 4,
  "vscode": {
   "interpreter": {
    "hash": "2606d968353f7d376702d4ff6f3b6c6b7d99413291a74525a0c53b80351bfcb4"
   }
  }
 },
 "nbformat": 4,
 "nbformat_minor": 2
}
